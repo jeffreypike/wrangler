{
 "cells": [
  {
   "cell_type": "code",
   "execution_count": 1,
   "id": "1e2238a7-e9be-495c-9135-1cdaa38f34df",
   "metadata": {},
   "outputs": [],
   "source": [
    "import jax\n",
    "import jax.numpy as jnp"
   ]
  },
  {
   "cell_type": "code",
   "execution_count": 2,
   "id": "003a71b3-7213-4599-a58f-a6a74522f557",
   "metadata": {},
   "outputs": [],
   "source": [
    "def soft_threshold(beta, gamma):\n",
    "    return jnp.sign(beta) * (jnp.abs(beta) - gamma) * (jnp.abs(beta) > gamma)"
   ]
  },
  {
   "cell_type": "code",
   "execution_count": 3,
   "id": "c17178a2-c6af-4189-a296-2c317c53de14",
   "metadata": {},
   "outputs": [],
   "source": [
    "def quadratic_minimizer_1d(j, beta, Q, l):\n",
    "    return jnp.where(Q[j,j] != 0,\n",
    "                     -(2 * (Q[:, j] @ beta - Q[j,j] * beta[j]) + l[j]) / (2 * Q[j,j]),\n",
    "                     0)"
   ]
  },
  {
   "cell_type": "code",
   "execution_count": 4,
   "id": "7c0974e2-57a0-44df-be36-f2269f91c0ff",
   "metadata": {},
   "outputs": [],
   "source": [
    "def quadratic_threshold_1d(j, Q, w, lam):\n",
    "    return jnp.where(Q[j,j] != 0,\n",
    "                    (lam * w[j]) / (2 * Q[j,j]),\n",
    "                    0)"
   ]
  },
  {
   "cell_type": "code",
   "execution_count": 5,
   "id": "3401ab82-fa5a-4589-8236-e1a2bad3a9fd",
   "metadata": {},
   "outputs": [],
   "source": [
    "@jax.jit\n",
    "def step_quadratic_lasso_cd(beta, Q, l, w, lam, alternate_conditions = None):\n",
    "    beta_new = beta.copy()\n",
    "    cond = beta if alternate_conditions is None else alternate_conditions\n",
    "    for j in range(len(beta_new)):\n",
    "        update = jnp.where(cond[j] != 0,\n",
    "                            jnp.where(w[j] != 0,\n",
    "                                      soft_threshold(quadratic_minimizer_1d(j, beta, Q, l),\n",
    "                                                     quadratic_threshold_1d(j, Q, w, lam)),\n",
    "                                      quadratic_minimizer_1d(j, beta, Q, l)),\n",
    "                            beta[j])\n",
    "        beta_new = beta_new.at[j].set(update)\n",
    "    return beta_new"
   ]
  },
  {
   "cell_type": "code",
   "execution_count": 6,
   "id": "c3dd5284-d7f6-4c61-ad9d-40013ccb3657",
   "metadata": {},
   "outputs": [],
   "source": [
    "# vectorized - all coordinate updates performed at once... faster but not guaranteed to converge!\n",
    "# @jax.jit\n",
    "# def step_quadratic_lasso_cd(beta, Q, l, w, lam):\n",
    "#     unpenalized = (-2 * (Q.T @ beta - jnp.diag(Q) * beta) - l) / (2 * jnp.diag(Q))\n",
    "#     treshold = lam * w / (2 * jnp.diag(Q))\n",
    "#     return soft_threshold(unpenalized, treshold)"
   ]
  },
  {
   "cell_type": "code",
   "execution_count": 7,
   "id": "99f2824b",
   "metadata": {},
   "outputs": [],
   "source": [
    "def has_converged(beta, beta_new, tolerance):\n",
    "    return jnp.abs(beta_new - beta).sum() < tolerance"
   ]
  },
  {
   "cell_type": "code",
   "execution_count": 8,
   "id": "1026ca78",
   "metadata": {},
   "outputs": [],
   "source": [
    "def fails_quadratic_kkt0(beta, Q, l, w, lam, tolerance):\n",
    "    return jnp.where((jnp.abs(2 * Q @ beta + l + lam * w * jnp.sign(beta))) < tolerance, 0, 1)"
   ]
  },
  {
   "cell_type": "code",
   "execution_count": 9,
   "id": "36254791",
   "metadata": {},
   "outputs": [],
   "source": [
    "def fails_quadratic_kkt1(beta, Q, l, w, lam, tolerance):\n",
    "    return jnp.where((jnp.abs(2 * Q @ beta + l) - lam * w) < tolerance, 0, 1)"
   ]
  },
  {
   "cell_type": "code",
   "execution_count": 10,
   "id": "4c1f1d8c",
   "metadata": {},
   "outputs": [],
   "source": [
    "# TODO: Currently oesn't work if there are any zeros on the diagonal\n",
    "def fit_quadratic_lasso(beta_0, Q, l, w, lam, max_iter_outer, max_iter_inner, tolerance_cd, tolerance_kkt):\n",
    "    beta = beta_0.copy()\n",
    "\n",
    "    for _ in range(max_iter_outer):\n",
    "        # run coordinate descent on the active set until convergence\n",
    "        for _ in range(max_iter_inner):\n",
    "            beta_prev = beta.copy()\n",
    "            beta = step_quadratic_lasso_cd(beta_prev, Q, l, w, lam)\n",
    "            if has_converged(beta, beta_prev, tolerance_cd):\n",
    "                break\n",
    "        \n",
    "        # cycle through the (nontrivial) null set once to perturb the stationary solution\n",
    "        cond = jnp.where((beta == 0) & (w != 0), 1, 0)\n",
    "        beta = step_quadratic_lasso_cd(beta, Q, l, w, lam, cond)\n",
    "\n",
    "    # now check KKT conditions\n",
    "        kkt0 = fails_quadratic_kkt0(beta, Q, l, w, lam, tolerance_kkt)\n",
    "        kkt1 = fails_quadratic_kkt1(beta, Q, l, w, lam, tolerance_kkt)\n",
    "        kkt = jnp.where(beta != 0, kkt0, kkt1)\n",
    "        if kkt.sum() == 0:\n",
    "            break\n",
    "\n",
    "    return beta"
   ]
  },
  {
   "cell_type": "code",
   "execution_count": 11,
   "id": "f9f4141f",
   "metadata": {},
   "outputs": [],
   "source": [
    "def mls(y, yhat):\n",
    "    return jnp.mean(jnp.square(y - yhat))"
   ]
  },
  {
   "cell_type": "code",
   "execution_count": 12,
   "id": "3bbe5170",
   "metadata": {},
   "outputs": [],
   "source": [
    "def bce(y, yhat):\n",
    "    return (y * jnp.log(yhat)).sum() + ((1-y) * (1 - jnp.log(yhat)).sum( )) / -len(y)"
   ]
  },
  {
   "cell_type": "code",
   "execution_count": 13,
   "id": "dcd0d085",
   "metadata": {},
   "outputs": [],
   "source": [
    "def get_loss_fn(loss):\n",
    "    if loss in ['linear', 'mls']:\n",
    "        return mls\n",
    "    if loss in ['logistic', 'bce']:\n",
    "        return bce\n",
    "    return loss"
   ]
  },
  {
   "cell_type": "code",
   "execution_count": 14,
   "id": "64b55075",
   "metadata": {},
   "outputs": [
    {
     "ename": "SyntaxError",
     "evalue": "incomplete input (899020045.py, line 33)",
     "output_type": "error",
     "traceback": [
      "\u001b[0;36m  Cell \u001b[0;32mIn[14], line 33\u001b[0;36m\u001b[0m\n\u001b[0;31m    \u001b[0m\n\u001b[0m    ^\u001b[0m\n\u001b[0;31mSyntaxError\u001b[0m\u001b[0;31m:\u001b[0m incomplete input\n"
     ]
    }
   ],
   "source": [
    "def fit_penalized(beta_0, \n",
    "                  X, \n",
    "                  y, \n",
    "                  loss, \n",
    "                  lam, \n",
    "                  alpha, \n",
    "                  max_iter_outer, \n",
    "                  max_iter_inner, \n",
    "                  tolerance_cd, \n",
    "                  tolerance_kkt, \n",
    "                  tolerance_loss,\n",
    "                  model = None):\n",
    "    if not model:\n",
    "        model = get_model(loss)\n",
    "    beta = beta_0.copy()\n",
    "    loss_fn = get_loss_fn(loss)\n",
    "\n",
    "    for _ in max_iter_outer:\n",
    "        # apply local quadratic approximation\n",
    "        g = get_loss_gradient(beta, X, y, loss)\n",
    "        H = get_loss_hessian(beta, X, y, loss)\n",
    "        w = jpn.zeros(len(beta))\n",
    "\n",
    "        Q = H/2 + (1 - alpha) * lam * jnp.diag(w) # for adding ridge regression\n",
    "        l = g - H @ beta + alpha * w @ get_penalty_gradient(beta, lam, gamma, tau) - lam * w * jnp.sign(beta)\n",
    "\n",
    "        # solve the local quadratic approximation\n",
    "        beta_new = fit_quadratic_lasso(beta, Q, l, w, lam * alpha, max_iter_outer = max_iterouter, max_iter_inner = max_iter_inner, tolerance_cd = tolerance_cd, tolerance_kkt = tolerance_kkt)\n",
    "\n",
    "        # if the solution didn't lower the loss, find one that does with a golden section search\n",
    "        if loss_fn(model(beta_new, X), y) > loss_fn(model(beta, X), y) + tolerance_loss:\n",
    "            \n",
    "            "
   ]
  },
  {
   "cell_type": "code",
   "execution_count": 15,
   "id": "961e438d",
   "metadata": {},
   "outputs": [
    {
     "name": "stderr",
     "output_type": "stream",
     "text": [
      "No GPU/TPU found, falling back to CPU. (Set TF_CPP_MIN_LOG_LEVEL=0 and rerun for more info.)\n"
     ]
    }
   ],
   "source": [
    "beta = jnp.array([1.,1.])\n",
    "Q = jnp.array([[1,2],[2,5]])\n",
    "l = jnp.array([1,1])\n",
    "w = jnp.array([0,1.])\n",
    "lam = 0.1\n",
    "j = 0"
   ]
  },
  {
   "cell_type": "code",
   "execution_count": 16,
   "id": "b7bd605f",
   "metadata": {},
   "outputs": [],
   "source": [
    "# approximate solution\n",
    "opt = fit_quadratic_lasso(beta, Q, l, w, lam, max_iter_outer = 100, max_iter_inner = 100, tolerance_cd = 1e-6, tolerance_kkt = 1e-6)"
   ]
  },
  {
   "cell_type": "code",
   "execution_count": 17,
   "id": "ca7143c8",
   "metadata": {},
   "outputs": [
    {
     "data": {
      "text/plain": [
       "Array([-1.399998  ,  0.44999918], dtype=float32)"
      ]
     },
     "execution_count": 17,
     "metadata": {},
     "output_type": "execute_result"
    }
   ],
   "source": [
    "# correct solution is [-1.4, 0.45] (according to the notorious pen & paper algorithm)\n",
    "opt"
   ]
  }
 ],
 "metadata": {
  "kernelspec": {
   "display_name": "wrangler",
   "language": "python",
   "name": "python3"
  },
  "language_info": {
   "codemirror_mode": {
    "name": "ipython",
    "version": 3
   },
   "file_extension": ".py",
   "mimetype": "text/x-python",
   "name": "python",
   "nbconvert_exporter": "python",
   "pygments_lexer": "ipython3",
   "version": "3.11.3"
  }
 },
 "nbformat": 4,
 "nbformat_minor": 5
}
